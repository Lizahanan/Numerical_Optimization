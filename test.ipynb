{
 "cells": [
  {
   "cell_type": "code",
   "execution_count": null,
   "metadata": {},
   "outputs": [],
   "source": []
  },
  {
   "cell_type": "markdown",
   "metadata": {},
   "source": [
    "**Check Feasibility**\n"
   ]
  },
  {
   "cell_type": "code",
   "execution_count": 3,
   "metadata": {},
   "outputs": [],
   "source": [
    "\n",
    "import numpy as np"
   ]
  },
  {
   "cell_type": "markdown",
   "metadata": {},
   "source": [
    "simple constraint \n",
    "x>=0 y>= 0"
   ]
  },
  {
   "cell_type": "code",
   "execution_count": 3,
   "metadata": {},
   "outputs": [],
   "source": [
    "def constraint_x_pos(x, need_hessian=False):\n",
    "    return -x[0], np.array([-1., 0.]), None\n",
    "\n",
    "def constraint_y_pos(x, need_hessian=False):\n",
    "    return -x[1], np.array([0., -1.]), None\n",
    "\n",
    "constraints = [constraint_x_pos, constraint_y_pos]"
   ]
  },
  {
   "cell_type": "code",
   "execution_count": 4,
   "metadata": {},
   "outputs": [
    {
     "name": "stdout",
     "output_type": "stream",
     "text": [
      "Test 1 - Simple inequalities:\n",
      "[0.5, 0.5]: True\n",
      "[0.0, 0.5]: True\n",
      "  Inequality constraint 0: g_0(x) = 1.00e-01 (should be <= -1.00e-08)\n",
      "[-0.1, 0.5]: False\n",
      "\n",
      "Test 2 - Equality constraint x + y = 1:\n",
      "[0.3, 0.7]: True\n",
      "[0.5, 0.5]: True\n",
      "  Equality constraint: Ax = b not satisfied (Ax - b = [-0.1])\n",
      "[0.3, 0.6]: False\n",
      "[0.0, 1.0]: True\n"
     ]
    }
   ],
   "source": [
    "print(\"Test 1 - Simple inequalities:\")\n",
    "print(f\"[0.5, 0.5]: {_is_feasible([0.5, 0.5], constraints, None, None)}\")  # Should be True\n",
    "print(f\"[0.0, 0.5]: {_is_feasible([0.0, 0.5], constraints, None, None)}\")  # Should be true\n",
    "print(f\"[-0.1, 0.5]: {_is_feasible([-0.1, 0.5], constraints, None, None)}\")  # Should be False\n",
    "\n",
    "# Test Snippet 2: Equality Constraint Test\n",
    "print(\"\\nTest 2 - Equality constraint x + y = 1:\")\n",
    "eq_mat = [[1., 1.]]\n",
    "eq_rhs = [1.]\n",
    "\n",
    "print(f\"[0.3, 0.7]: {_is_feasible([0.3, 0.7], constraints, eq_mat, eq_rhs)}\")  # Should be True\n",
    "print(f\"[0.5, 0.5]: {_is_feasible([0.5, 0.5], constraints, eq_mat, eq_rhs)}\")  # Should be True\n",
    "print(f\"[0.3, 0.6]: {_is_feasible([0.3, 0.6], constraints, eq_mat, eq_rhs)}\")  # Should be False \n",
    "print(f\"[0.0, 1.0]: {_is_feasible([0.0, 1.0], constraints, eq_mat, eq_rhs)}\")  # Should be true (on boundary)\n"
   ]
  },
  {
   "cell_type": "code",
   "execution_count": 6,
   "metadata": {},
   "outputs": [
    {
     "name": "stdout",
     "output_type": "stream",
     "text": [
      "\n",
      "Test 3 - QP Problem constraints:\n",
      "Initial point [0.1, 0.2, 0.7]: True\n",
      "[0.333, 0.333, 0.334]: True\n",
      "[0.0, 0.5, 0.5]: True\n"
     ]
    }
   ],
   "source": [
    "# Test Snippet 3: QP Problem Constraints (x,y,z >= 0 and x+y+z=1)\n",
    "print(\"\\nTest 3 - QP Problem constraints:\")\n",
    "\n",
    "def constraint_x3d(x, need_hessian=False):\n",
    "    return -x[0], np.array([-1., 0., 0.]), None\n",
    "\n",
    "def constraint_y3d(x, need_hessian=False):\n",
    "    return -x[1], np.array([0., -1., 0.]), None\n",
    "\n",
    "def constraint_z3d(x, need_hessian=False):\n",
    "    return -x[2], np.array([0., 0., -1.]), None\n",
    "\n",
    "qp_constraints = [constraint_x3d, constraint_y3d, constraint_z3d]\n",
    "qp_eq_mat = [[1., 1., 1.]]\n",
    "qp_eq_rhs = [1.]\n",
    "initial_point = [0.1, 0.2, 0.7]\n",
    "print(f\"Initial point {initial_point}: {_is_feasible(initial_point, qp_constraints, qp_eq_mat, qp_eq_rhs)}\")\n",
    "\n",
    "# Test other points\n",
    "print(f\"[0.333, 0.333, 0.334]: {_is_feasible([0.333, 0.333, 0.334], qp_constraints, qp_eq_mat, qp_eq_rhs)}\")\n",
    "print(f\"[0.0, 0.5, 0.5]: {_is_feasible([0.0, 0.5, 0.5], qp_constraints, qp_eq_mat, qp_eq_rhs)}\")  # On boundary\n"
   ]
  },
  {
   "cell_type": "code",
   "execution_count": 7,
   "metadata": {},
   "outputs": [
    {
     "name": "stdout",
     "output_type": "stream",
     "text": [
      "\n",
      "Test 4 - LP Problem constraints:\n",
      "Initial point [0.5, 0.75]: True\n",
      "[2.0, 1.0]: True\n",
      "[0.0, 1.0]: True\n",
      "[1.0, 0.5]: True\n",
      "\n",
      "Test 5 - Tolerance testing:\n",
      "[1e-09, 0.5]: True\n",
      "[1e-06, 0.5]: True\n",
      "[1e-12, 0.5]: True\n",
      "\n",
      "Test 6 - Verify constraint functions:\n",
      "Testing constraint function calls:\n",
      "constraint_x_pos([0.5, 0.5]): g=-0.5, grad=[-1.  0.], hess=None\n",
      "constraint_y_pos([0.5, 0.5]): g=-0.5, grad=[ 0. -1.], hess=None\n",
      "\n",
      "Test 7 - Matrix operations:\n",
      "A @ x - b = [0.]\n",
      "Is close to zero: True\n",
      "With error: A @ x - b = [0.01]\n",
      "Is close to zero: False\n",
      "Is close to zero (loose): False\n"
     ]
    }
   ],
   "source": [
    "# Test Snippet 4: LP Problem Constraints \n",
    "print(\"\\nTest 4 - LP Problem constraints:\")\n",
    "\n",
    "# y >= -x + 1  =>  -(x + y - 1) <= 0\n",
    "def constraint_line(x, need_hessian=False):\n",
    "    return -(x[0] + x[1] - 1), np.array([-1., -1.]), None\n",
    "\n",
    "# y <= 1\n",
    "def constraint_y_upper(x, need_hessian=False):\n",
    "    return x[1] - 1, np.array([0., 1.]), None\n",
    "\n",
    "# x <= 2  \n",
    "def constraint_x_upper(x, need_hessian=False):\n",
    "    return x[0] - 2, np.array([1., 0.]), None\n",
    "\n",
    "# y >= 0\n",
    "def constraint_y_lower(x, need_hessian=False):\n",
    "    return -x[1], np.array([0., -1.]), None\n",
    "\n",
    "lp_constraints = [constraint_line, constraint_y_upper, constraint_x_upper, constraint_y_lower]\n",
    "\n",
    "# Test the given initial point\n",
    "lp_initial = [0.5, 0.75]\n",
    "print(f\"Initial point {lp_initial}: {_is_feasible(lp_initial, lp_constraints, None, None)}\")\n",
    "\n",
    "# Test corner points (should be False - on boundary)\n",
    "print(f\"[2.0, 1.0]: {_is_feasible([2.0, 1.0], lp_constraints, None, None)}\")  # Corner\n",
    "print(f\"[0.0, 1.0]: {_is_feasible([0.0, 1.0], lp_constraints, None, None)}\")  # Corner\n",
    "\n",
    "# Test interior point\n",
    "print(f\"[1.0, 0.5]: {_is_feasible([1.0, 0.5], lp_constraints, None, None)}\")\n",
    "\n",
    "#-------------------------------------------------------------------\n",
    "\n",
    "# Test Snippet 5: Edge Cases and Tolerances\n",
    "print(\"\\nTest 5 - Tolerance testing:\")\n",
    "\n",
    "# Test points very close to boundary\n",
    "close_points = [\n",
    "    [1e-9, 0.5],    # Very close to x=0\n",
    "    [1e-6, 0.5],    # Close but should pass\n",
    "    [1e-12, 0.5],   # Extremely close\n",
    "]\n",
    "\n",
    "for point in close_points:\n",
    "    result = _is_feasible(point, constraints, None, None)\n",
    "    print(f\"{point}: {result}\")\n",
    "\n",
    "#-------------------------------------------------------------------\n",
    "\n",
    "# Test Snippet 6: Verify constraint function calls work\n",
    "print(\"\\nTest 6 - Verify constraint functions:\")\n",
    "\n",
    "x_test = [0.5, 0.5]\n",
    "print(\"Testing constraint function calls:\")\n",
    "\n",
    "g_val, g_grad, g_hess = constraint_x_pos(x_test, need_hessian=True)\n",
    "print(f\"constraint_x_pos({x_test}): g={g_val}, grad={g_grad}, hess={g_hess}\")\n",
    "\n",
    "g_val, g_grad, g_hess = constraint_y_pos(x_test, need_hessian=False)\n",
    "print(f\"constraint_y_pos({x_test}): g={g_val}, grad={g_grad}, hess={g_hess}\")\n",
    "\n",
    "#-------------------------------------------------------------------\n",
    "\n",
    "# Test Snippet 7: Matrix operations check\n",
    "print(\"\\nTest 7 - Matrix operations:\")\n",
    "\n",
    "# Test matrix multiplication\n",
    "A = np.array([[1., 1.]])\n",
    "b = np.array([1.])\n",
    "x = np.array([0.3, 0.7])\n",
    "\n",
    "result = A @ x - b\n",
    "print(f\"A @ x - b = {result}\")\n",
    "print(f\"Is close to zero: {np.allclose(result, 0)}\")\n",
    "\n",
    "# Test with slight error\n",
    "x_error = np.array([0.3, 0.71])  # sum = 1.01\n",
    "result_error = A @ x_error - b\n",
    "print(f\"With error: A @ x - b = {result_error}\")\n",
    "print(f\"Is close to zero: {np.allclose(result_error, 0)}\")\n",
    "print(f\"Is close to zero (loose): {np.allclose(result_error, 0, atol=1e-2)}\")\n"
   ]
  },
  {
   "cell_type": "code",
   "execution_count": 1,
   "metadata": {},
   "outputs": [],
   "source": [
    "from src.constrained_min import interior_point\n",
    "import numpy as np"
   ]
  },
  {
   "cell_type": "code",
   "execution_count": 3,
   "metadata": {},
   "outputs": [],
   "source": [
    "def create_test_problem():\n",
    "    \"\"\"\n",
    "    Create a simple test problem:\n",
    "    minimize (x-2)² + (y-1)²\n",
    "    subject to x + y ≤ 1  (i.e., -(x + y - 1) < 0)\n",
    "             x ≥ 0       (i.e., -(-x) < 0)\n",
    "             y ≥ 0       (i.e., -(-y) < 0)\n",
    "    \"\"\"\n",
    "    \n",
    "    # Objective function: (x-2)² + (y-1)²\n",
    "    def objective(x, need_hessian=True):\n",
    "        f = (x[0] - 2)**2 + (x[1] - 1)**2\n",
    "        grad = np.array([2*(x[0] - 2), 2*(x[1] - 1)])\n",
    "        hess = np.array([[2, 0], [0, 2]]) if need_hessian else None\n",
    "        return f, grad, hess\n",
    "    \n",
    "    # Inequality constraints: g_i(x) < 0\n",
    "    def constraint1(x, need_hessian=True):\n",
    "        # x + y - 1 ≤ 0  =>  -(1 - x - y) < 0\n",
    "        g = x[0] + x[1] - 1\n",
    "        grad = np.array([1.0, 1.0])\n",
    "        hess = np.zeros((2, 2)) if need_hessian else None\n",
    "        return g, grad, hess\n",
    "    \n",
    "    def constraint2(x, need_hessian=True):\n",
    "        # x ≥ 0  =>  -x < 0\n",
    "        g = -x[0]\n",
    "        grad = np.array([-1.0, 0.0])\n",
    "        hess = np.zeros((2, 2)) if need_hessian else None\n",
    "        return g, grad, hess\n",
    "    \n",
    "    def constraint3(x, need_hessian=True):\n",
    "        # y ≥ 0  =>  -y < 0\n",
    "        g = -x[1]\n",
    "        grad = np.array([0.0, -1.0])\n",
    "        hess = np.zeros((2, 2)) if need_hessian else None\n",
    "        return g, grad, hess\n",
    "    \n",
    "    return objective, [constraint1, constraint2, constraint3]\n"
   ]
  },
  {
   "cell_type": "code",
   "execution_count": 4,
   "metadata": {},
   "outputs": [
    {
     "name": "stdout",
     "output_type": "stream",
     "text": [
      "Testing Interior Point Method\n",
      "==================================================\n",
      "✓ Initial point is feasible\n",
      "✓ Inner optimization converged in 6 iterations\n",
      "✓ Inner optimization converged in 6 iterations\n",
      "✓ Inner optimization converged in 7 iterations\n",
      "✓ Inner optimization converged in 7 iterations\n",
      "✓ Inner optimization converged in 7 iterations\n",
      "✓ Inner optimization converged in 7 iterations\n",
      "✓ Inner optimization converged in 7 iterations\n",
      "✓ Inner optimization converged in 6 iterations\n",
      "✓ Converged: Duality gap 3.00e-07 < 1e-06\n",
      "\n",
      "Optimal point: [9.99499750e-01 4.99750062e-04]\n",
      "Optimal value: 2.000001\n",
      "Converged: True\n"
     ]
    }
   ],
   "source": [
    "# Test the implementation\n",
    "obj, constraints = create_test_problem()\n",
    "x0 = np.array([0.1, 0.1])  # Feasible starting point\n",
    "    \n",
    "print(\"Testing Interior Point Method\")\n",
    "print(\"=\"*50)\n",
    "    \n",
    "result = interior_point(\n",
    "    func=obj,\n",
    "    ineq_constraints=constraints,\n",
    "    eq_constraints_mat=None,  # No equality constraints in this example\n",
    "    eq_constraints_rhs=None,\n",
    "    x0=x0,\n",
    "    mu=10.0,\n",
    "    tol=1e-6,\n",
    "    max_iter=20\n",
    ")\n",
    "    \n",
    "x_opt, f_opt, success, path, f_vals = result\n",
    "print(f\"\\nOptimal point: {x_opt}\")\n",
    "print(f\"Optimal value: {f_opt:.6f}\")\n",
    "print(f\"Converged: {success}\")"
   ]
  }
 ],
 "metadata": {
  "kernelspec": {
   "display_name": "mlenv",
   "language": "python",
   "name": "python3"
  },
  "language_info": {
   "codemirror_mode": {
    "name": "ipython",
    "version": 3
   },
   "file_extension": ".py",
   "mimetype": "text/x-python",
   "name": "python",
   "nbconvert_exporter": "python",
   "pygments_lexer": "ipython3",
   "version": "3.13.2"
  }
 },
 "nbformat": 4,
 "nbformat_minor": 2
}
