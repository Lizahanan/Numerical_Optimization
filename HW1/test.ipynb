{
 "cells": [
  {
   "cell_type": "markdown",
   "metadata": {},
   "source": [
    "The following Notebook has been used for step by step debugging"
   ]
  },
  {
   "cell_type": "code",
   "execution_count": 6,
   "metadata": {},
   "outputs": [],
   "source": [
    "import src.unconstrained_min as um\n",
    "import src.utils as utils\n",
    "import tests.examples as examples\n",
    "import numpy as np"
   ]
  },
  {
   "cell_type": "markdown",
   "metadata": {},
   "source": [
    "1. TEST THE EXAMPLES "
   ]
  },
  {
   "cell_type": "code",
   "execution_count": 7,
   "metadata": {},
   "outputs": [
    {
     "name": "stdout",
     "output_type": "stream",
     "text": [
      "Function value: 5.0\n",
      "Gradient: [2. 4.]\n",
      "Hessian:\n",
      " [[2. 0.]\n",
      " [0. 2.]]\n"
     ]
    }
   ],
   "source": [
    "x = np.array([1.0, 2.0])\n",
    "\n",
    "#test quad_circle\n",
    "f, grad, hess = examples.quad_circle(x, need_hessian=True)\n",
    "print(\"Function value:\", f)\n",
    "print(\"Gradient:\", grad)\n",
    "print(\"Hessian:\\n\", hess)\n",
    "\n"
   ]
  },
  {
   "cell_type": "code",
   "execution_count": 10,
   "metadata": {},
   "outputs": [
    {
     "name": "stdout",
     "output_type": "stream",
     "text": [
      "Quad ellipse with x = [1.0, 2.0]\n",
      "Function value: 401.0\n",
      "Gradient: [  2. 400.]\n",
      "Hessian:\n",
      " [[  2   0]\n",
      " [  0 200]]\n",
      "Quad rotated ellipse with x = [1.0, 2.0]\n",
      "Function value: 6.776970050681143\n",
      "Gradient: [-20.97302995  17.26348503]\n",
      "Hessian:\n",
      " [[150.5        -85.73651497]\n",
      " [-85.73651497  51.5       ]]\n",
      "Rosenbrock with x = [1.0, 2.0]\n",
      "Function value: 100.0\n",
      "Gradient: [-400.  200.]\n",
      "Hessian:\n",
      " [[ 402. -400.]\n",
      " [-400.  200.]]\n",
      "Linear with x = [1.0, 2.0]\n",
      "Function value: 247.0\n",
      "Gradient: [  1. 123.]\n",
      "Hessian:\n",
      " None\n",
      "Smooth triangle with x = [1.0, 2.0]\n",
      "Function value: 992.6136834352898\n",
      "Gradient: [ 991.94794127 2976.80585658]\n",
      "Hessian:\n",
      " [[ 992.61368344 2976.80585658]\n",
      " [2976.80585658 8930.52731116]]\n"
     ]
    }
   ],
   "source": [
    "#test quad_elipse\n",
    "print(\"Quad ellipse with x = [1.0, 2.0]\")  \n",
    "f, grad, hess = examples.quad_ellipse(x, need_hessian=True)\n",
    "print(\"Function value:\", f)\n",
    "print(\"Gradient:\", grad)\n",
    "print(\"Hessian:\\n\", hess)\n",
    "\n",
    "#test quad_rotated_ellipse\n",
    "print(\"Quad rotated ellipse with x = [1.0, 2.0]\")\n",
    "f, grad, hess = examples.quad_rotated_ellipse(x, need_hessian=True)\n",
    "print(\"Function value:\", f)\n",
    "print(\"Gradient:\", grad)\n",
    "print(\"Hessian:\\n\", hess)\n",
    "\n",
    "#test rosenbrock\n",
    "print(\"Rosenbrock with x = [1.0, 2.0]\")\n",
    "f, grad, hess = examples.rosenbrock(x, need_hessian=True)\n",
    "print(\"Function value:\", f)\n",
    "print(\"Gradient:\", grad)\n",
    "print(\"Hessian:\\n\", hess)\n",
    "\n",
    "#test linear \n",
    "print(\"Linear with x = [1.0, 2.0]\")\n",
    "f, grad, hess = examples.linear(x, need_hessian=False)\n",
    "print(\"Function value:\", f)\n",
    "print(\"Gradient:\", grad)\n",
    "print(\"Hessian:\\n\", hess)\n",
    "\n",
    "#test smooth_triangle\n",
    "print(\"Smooth triangle with x = [1.0, 2.0]\")\n",
    "f, grad, hess = examples.smooth_triangle(x, need_hessian=True)\n",
    "print(\"Function value:\", f)\n",
    "print(\"Gradient:\", grad)\n",
    "print(\"Hessian:\\n\", hess)\n",
    "\n",
    "\n"
   ]
  },
  {
   "cell_type": "markdown",
   "metadata": {},
   "source": [
    "2.TEST THE MINIMIZATION"
   ]
  },
  {
   "cell_type": "code",
   "execution_count": null,
   "metadata": {},
   "outputs": [],
   "source": [
    "from tests.examples import quad_circle, quad_ellipse, quad_rotated_ellipse, rosenbrock, linear, smooth_triangle"
   ]
  },
  {
   "cell_type": "code",
   "execution_count": 11,
   "metadata": {},
   "outputs": [
    {
     "ename": "NameError",
     "evalue": "name 'quad_ellipse' is not defined",
     "output_type": "error",
     "traceback": [
      "\u001b[0;31m---------------------------------------------------------------------------\u001b[0m",
      "\u001b[0;31mNameError\u001b[0m                                 Traceback (most recent call last)",
      "\u001b[1;32m/Users/lizakha/Desktop/Uni Year 2/Semester B/Numerical Optimization/Hw/Numerical_Optimization/HW1/test.ipynb Cell 8\u001b[0m line \u001b[0;36m3\n\u001b[1;32m      <a href='vscode-notebook-cell:/Users/lizakha/Desktop/Uni%20Year%202/Semester%20B/Numerical%20Optimization/Hw/Numerical_Optimization/HW1/test.ipynb#X14sZmlsZQ%3D%3D?line=0'>1</a>\u001b[0m functions \u001b[39m=\u001b[39m [\n\u001b[1;32m      <a href='vscode-notebook-cell:/Users/lizakha/Desktop/Uni%20Year%202/Semester%20B/Numerical%20Optimization/Hw/Numerical_Optimization/HW1/test.ipynb#X14sZmlsZQ%3D%3D?line=1'>2</a>\u001b[0m     (\u001b[39m\"\u001b[39m\u001b[39mQuad Circle\u001b[39m\u001b[39m\"\u001b[39m, quad_circle, [\u001b[39m1.0\u001b[39m, \u001b[39m1.0\u001b[39m]),\n\u001b[0;32m----> <a href='vscode-notebook-cell:/Users/lizakha/Desktop/Uni%20Year%202/Semester%20B/Numerical%20Optimization/Hw/Numerical_Optimization/HW1/test.ipynb#X14sZmlsZQ%3D%3D?line=2'>3</a>\u001b[0m     (\u001b[39m\"\u001b[39m\u001b[39mQuad Ellipse\u001b[39m\u001b[39m\"\u001b[39m, quad_ellipse, [\u001b[39m1.0\u001b[39m, \u001b[39m1.0\u001b[39m]),\n\u001b[1;32m      <a href='vscode-notebook-cell:/Users/lizakha/Desktop/Uni%20Year%202/Semester%20B/Numerical%20Optimization/Hw/Numerical_Optimization/HW1/test.ipynb#X14sZmlsZQ%3D%3D?line=3'>4</a>\u001b[0m     (\u001b[39m\"\u001b[39m\u001b[39mQuad Rotated Ellipse\u001b[39m\u001b[39m\"\u001b[39m, quad_rotated_ellipse, [\u001b[39m1.0\u001b[39m, \u001b[39m1.0\u001b[39m]),\n\u001b[1;32m      <a href='vscode-notebook-cell:/Users/lizakha/Desktop/Uni%20Year%202/Semester%20B/Numerical%20Optimization/Hw/Numerical_Optimization/HW1/test.ipynb#X14sZmlsZQ%3D%3D?line=4'>5</a>\u001b[0m     (\u001b[39m\"\u001b[39m\u001b[39mRosenbrock\u001b[39m\u001b[39m\"\u001b[39m, rosenbrock, [\u001b[39m-\u001b[39m\u001b[39m1.0\u001b[39m, \u001b[39m2.0\u001b[39m]),\n\u001b[1;32m      <a href='vscode-notebook-cell:/Users/lizakha/Desktop/Uni%20Year%202/Semester%20B/Numerical%20Optimization/Hw/Numerical_Optimization/HW1/test.ipynb#X14sZmlsZQ%3D%3D?line=5'>6</a>\u001b[0m     (\u001b[39m\"\u001b[39m\u001b[39mLinear\u001b[39m\u001b[39m\"\u001b[39m, linear, [\u001b[39m1.0\u001b[39m, \u001b[39m1.0\u001b[39m]),\n\u001b[1;32m      <a href='vscode-notebook-cell:/Users/lizakha/Desktop/Uni%20Year%202/Semester%20B/Numerical%20Optimization/Hw/Numerical_Optimization/HW1/test.ipynb#X14sZmlsZQ%3D%3D?line=6'>7</a>\u001b[0m     (\u001b[39m\"\u001b[39m\u001b[39mSmooth Triangle\u001b[39m\u001b[39m\"\u001b[39m, smooth_triangle, [\u001b[39m1.0\u001b[39m, \u001b[39m1.0\u001b[39m])\n\u001b[1;32m      <a href='vscode-notebook-cell:/Users/lizakha/Desktop/Uni%20Year%202/Semester%20B/Numerical%20Optimization/Hw/Numerical_Optimization/HW1/test.ipynb#X14sZmlsZQ%3D%3D?line=7'>8</a>\u001b[0m ]\n\u001b[1;32m     <a href='vscode-notebook-cell:/Users/lizakha/Desktop/Uni%20Year%202/Semester%20B/Numerical%20Optimization/Hw/Numerical_Optimization/HW1/test.ipynb#X14sZmlsZQ%3D%3D?line=9'>10</a>\u001b[0m results \u001b[39m=\u001b[39m []\n\u001b[1;32m     <a href='vscode-notebook-cell:/Users/lizakha/Desktop/Uni%20Year%202/Semester%20B/Numerical%20Optimization/Hw/Numerical_Optimization/HW1/test.ipynb#X14sZmlsZQ%3D%3D?line=10'>11</a>\u001b[0m \u001b[39mfor\u001b[39;00m name, func, x0 \u001b[39min\u001b[39;00m functions:\n",
      "\u001b[0;31mNameError\u001b[0m: name 'quad_ellipse' is not defined"
     ]
    }
   ],
   "source": [
    "functions = [\n",
    "    (\"Quad Circle\", quad_circle, [1.0, 1.0]),\n",
    "    (\"Quad Ellipse\", quad_ellipse, [1.0, 1.0]),\n",
    "    (\"Quad Rotated Ellipse\", quad_rotated_ellipse, [1.0, 1.0]),\n",
    "    (\"Rosenbrock\", rosenbrock, [-1.0, 2.0]),\n",
    "    (\"Linear\", linear, [1.0, 1.0]),\n",
    "    (\"Smooth Triangle\", smooth_triangle, [1.0, 1.0])\n",
    "]\n",
    "\n",
    "results = []\n",
    "for name, func, x0 in functions:\n",
    "    max_iter = 10000 if name == \"Rosenbrock\" else 100\n",
    "    print(f\"\\n🔍 Testing Gradient Descent on: {name} with x0 = {x0}\")\n"
   ]
  },
  {
   "cell_type": "code",
   "execution_count": null,
   "metadata": {},
   "outputs": [],
   "source": []
  }
 ],
 "metadata": {
  "kernelspec": {
   "display_name": "Python 3",
   "language": "python",
   "name": "python3"
  },
  "language_info": {
   "codemirror_mode": {
    "name": "ipython",
    "version": 3
   },
   "file_extension": ".py",
   "mimetype": "text/x-python",
   "name": "python",
   "nbconvert_exporter": "python",
   "pygments_lexer": "ipython3",
   "version": "3.13.1"
  }
 },
 "nbformat": 4,
 "nbformat_minor": 2
}
