{
 "cells": [
  {
   "cell_type": "markdown",
   "metadata": {},
   "source": [
    "The following Notebook has been used for step by step debugging"
   ]
  },
  {
   "cell_type": "code",
   "execution_count": 1,
   "metadata": {},
   "outputs": [],
   "source": [
    "import src.unconstrained_min as um\n",
    "import src.utils as utils\n",
    "import tests.examples as examples\n",
    "import numpy as np"
   ]
  },
  {
   "cell_type": "code",
   "execution_count": null,
   "metadata": {},
   "outputs": [],
   "source": []
  },
  {
   "cell_type": "markdown",
   "metadata": {},
   "source": [
    "1. TEST THE EXAMPLES "
   ]
  },
  {
   "cell_type": "code",
   "execution_count": 2,
   "metadata": {},
   "outputs": [
    {
     "name": "stdout",
     "output_type": "stream",
     "text": [
      "Function value: 5.0\n",
      "Gradient: [2. 4.]\n",
      "Hessian:\n",
      " [[2. 0.]\n",
      " [0. 2.]]\n"
     ]
    }
   ],
   "source": [
    "x = np.array([1.0, 2.0])\n",
    "\n",
    "#test quad_circle\n",
    "f, grad, hess = examples.quad_circle(x, need_hessian=True)\n",
    "print(\"Function value:\", f)\n",
    "print(\"Gradient:\", grad)\n",
    "print(\"Hessian:\\n\", hess)\n",
    "\n"
   ]
  },
  {
   "cell_type": "code",
   "execution_count": 3,
   "metadata": {},
   "outputs": [
    {
     "name": "stdout",
     "output_type": "stream",
     "text": [
      "Quad ellipse with x = [1.0, 2.0]\n",
      "Function value: 401.0\n",
      "Gradient: [  2. 400.]\n",
      "Hessian:\n",
      " [[  2   0]\n",
      " [  0 200]]\n",
      "Quad rotated ellipse with x = [1.0, 2.0]\n",
      "Function value: 6.776970050681143\n",
      "Gradient: [-20.97302995  17.26348503]\n",
      "Hessian:\n",
      " [[150.5        -85.73651497]\n",
      " [-85.73651497  51.5       ]]\n",
      "Rosenbrock with x = [1.0, 2.0]\n",
      "Function value: 100.0\n",
      "Gradient: [-400.  200.]\n",
      "Hessian:\n",
      " [[ 402. -400.]\n",
      " [-400.  200.]]\n",
      "Linear with x = [1.0, 2.0]\n",
      "Function value: 247.0\n",
      "Gradient: [  1. 123.]\n",
      "Hessian:\n",
      " None\n",
      "Smooth triangle with x = [1.0, 2.0]\n",
      "Function value: 992.6136834352898\n",
      "Gradient: [ 991.94794127 2976.80585658]\n",
      "Hessian:\n",
      " [[ 992.61368344 2976.80585658]\n",
      " [2976.80585658 8930.52731116]]\n"
     ]
    }
   ],
   "source": [
    "#test quad_elipse\n",
    "print(\"Quad ellipse with x = [1.0, 2.0]\")  \n",
    "f, grad, hess = examples.quad_ellipse(x, need_hessian=True)\n",
    "print(\"Function value:\", f)\n",
    "print(\"Gradient:\", grad)\n",
    "print(\"Hessian:\\n\", hess)\n",
    "\n",
    "#test quad_rotated_ellipse\n",
    "print(\"Quad rotated ellipse with x = [1.0, 2.0]\")\n",
    "f, grad, hess = examples.quad_rotated_ellipse(x, need_hessian=True)\n",
    "print(\"Function value:\", f)\n",
    "print(\"Gradient:\", grad)\n",
    "print(\"Hessian:\\n\", hess)\n",
    "\n",
    "#test rosenbrock\n",
    "print(\"Rosenbrock with x = [1.0, 2.0]\")\n",
    "f, grad, hess = examples.rosenbrock(x, need_hessian=True)\n",
    "print(\"Function value:\", f)\n",
    "print(\"Gradient:\", grad)\n",
    "print(\"Hessian:\\n\", hess)\n",
    "\n",
    "#test linear \n",
    "print(\"Linear with x = [1.0, 2.0]\")\n",
    "f, grad, hess = examples.linear(x, need_hessian=False)\n",
    "print(\"Function value:\", f)\n",
    "print(\"Gradient:\", grad)\n",
    "print(\"Hessian:\\n\", hess)\n",
    "\n",
    "#test smooth_triangle\n",
    "print(\"Smooth triangle with x = [1.0, 2.0]\")\n",
    "f, grad, hess = examples.smooth_triangle(x, need_hessian=True)\n",
    "print(\"Function value:\", f)\n",
    "print(\"Gradient:\", grad)\n",
    "print(\"Hessian:\\n\", hess)\n",
    "\n",
    "\n"
   ]
  },
  {
   "cell_type": "markdown",
   "metadata": {},
   "source": [
    "2.TEST THE MINIMIZATION"
   ]
  },
  {
   "cell_type": "code",
   "execution_count": 4,
   "metadata": {},
   "outputs": [],
   "source": [
    "from tests.examples import quad_circle, quad_ellipse, quad_rotated_ellipse, rosenbrock, linear, smooth_triangle"
   ]
  },
  {
   "cell_type": "code",
   "execution_count": 6,
   "metadata": {},
   "outputs": [
    {
     "name": "stdout",
     "output_type": "stream",
     "text": [
      "\n",
      "🔍 Testing Gradient Descent on: Rosenbrock with x0 = [-1.0, 2.0]\n",
      "Iter 1: x = [-1.38671875  1.8046875 ], f(x) = 7.095948317088187\n",
      "Iter 7751: x = [0.99989437 0.99978771], f(x) = 1.1267173493005898e-08\n",
      "Final x: [0.99989437 0.99978771]\n",
      "Final function value: 1.1267173493005898e-08\n",
      "Success: True\n",
      "Iterations: 7750\n",
      "\n",
      "🔍 Testing Gradient Descent on: Linear with x0 = [1.0, 1.0]\n",
      "Iter 1: x = [   0. -122.], f(x) = -15006.0\n",
      "Final x: [   -99. -12299.]\n",
      "Final function value: -1512876.0\n",
      "Success: False\n",
      "Iterations: 100\n",
      "\n",
      "🔍 Testing Gradient Descent on: Smooth Triangle with x0 = [1.0, 1.0]\n",
      "Iter 1: x = [ 0.61568723 -0.15499983], f(x) = 4.207136986647966\n",
      "Iter 29: x = [-3.46572886e-01 -9.76799665e-07], f(x) = 2.559266696664345\n",
      "Final x: [-3.46572886e-01 -9.76799665e-07]\n",
      "Final function value: 2.559266696664345\n",
      "Success: True\n",
      "Iterations: 28\n"
     ]
    }
   ],
   "source": [
    "functions = [\n",
    "    (\"Quad Circle\", quad_circle, [1.0, 1.0]),\n",
    "    (\"Quad Ellipse\", quad_ellipse, [1.0, 1.0]),\n",
    "    (\"Quad Rotated Ellipse\", quad_rotated_ellipse, [1.0, 1.0]),\n",
    "    (\"Rosenbrock\", rosenbrock, [-1.0, 2.0]),\n",
    "    (\"Linear\", linear, [1.0, 1.0]),\n",
    "    (\"Smooth Triangle\", smooth_triangle, [1.0, 1.0])\n",
    "]\n",
    "\n",
    "results = []\n",
    "for name, func, x0 in functions[3:]:\n",
    "    max_iter = 10000 if name == \"Rosenbrock\" else 100\n",
    "    print(f\"\\n🔍 Testing Gradient Descent on: {name} with x0 = {x0}\")\n",
    "    x_final, f_final, success, x_path, f_path = um.minimize(f=func, x0=x0, method='GD',\n",
    "                                                                 obj_tol=1e-12, param_tol=1e-8, max_iter=max_iter)\n",
    "    print(f\"Final x: {x_final}\")\n",
    "    print(f\"Final function value: {f_final}\")\n",
    "    print(f\"Success: {success}\")\n",
    "    print(f\"Iterations: {len(x_path)-1}\")\n",
    "    results.append((name, x_final, f_final, success, len(x_path)-1))\n",
    "                                                             \n"
   ]
  },
  {
   "cell_type": "code",
   "execution_count": 8,
   "metadata": {},
   "outputs": [
    {
     "name": "stdout",
     "output_type": "stream",
     "text": [
      "\n",
      "🔍 Testing Gradient Descent on: Rosenbrock with x0 = [-1.0, 2.0]\n",
      "Iter 1: x = [-1.01005025  1.0201005 ], f(x) = 4.040303032827961\n",
      "Iter 21: x = [1. 1.], f(x) = 5.4357446750385345e-30\n",
      "Final x: [1. 1.]\n",
      "Final function value: 5.4357446750385345e-30\n",
      "Success: True\n",
      "Iterations: 20\n",
      "\n",
      "🔍 Testing Gradient Descent on: Smooth Triangle with x0 = [1.0, 1.0]\n",
      "Iter 1: x = [0.81041242 0.73119842], f(x) = 18.87640039338445\n",
      "Iter 9: x = [-3.46573590e-01 -7.26375117e-18], f(x) = 2.5592666966582156\n",
      "Final x: [-3.46573590e-01 -7.26375117e-18]\n",
      "Final function value: 2.5592666966582156\n",
      "Success: True\n",
      "Iterations: 8\n"
     ]
    }
   ],
   "source": [
    "functions = [\n",
    "    (\"Quad Circle\", quad_circle, [1.0, 1.0]),\n",
    "    (\"Quad Ellipse\", quad_ellipse, [1.0, 1.0]),\n",
    "    (\"Quad Rotated Ellipse\", quad_rotated_ellipse, [1.0, 1.0]),\n",
    "    (\"Rosenbrock\", rosenbrock, [-1.0, 2.0]),\n",
    "    #(\"Linear\", linear, [1.0, 1.0]),\n",
    "    (\"Smooth Triangle\", smooth_triangle, [1.0, 1.0])\n",
    "]\n",
    "results = []\n",
    "for name, func, x0 in functions[3:]:\n",
    "    print(f\"\\n🔍 Testing Gradient Descent on: {name} with x0 = {x0}\")\n",
    "    x_final, f_final, success, x_path, f_path = um.minimize(f=func, x0=x0, method='NT',\n",
    "                                                                 obj_tol=1e-12, param_tol=1e-8, max_iter=100)\n",
    "    print(f\"Final x: {x_final}\")\n",
    "    print(f\"Final function value: {f_final}\")\n",
    "    print(f\"Success: {success}\")\n",
    "    print(f\"Iterations: {len(x_path)-1}\")\n",
    "    results.append((name, x_final, f_final, success, len(x_path)-1))"
   ]
  },
  {
   "cell_type": "code",
   "execution_count": null,
   "metadata": {},
   "outputs": [],
   "source": []
  }
 ],
 "metadata": {
  "kernelspec": {
   "display_name": "Python 3",
   "language": "python",
   "name": "python3"
  },
  "language_info": {
   "codemirror_mode": {
    "name": "ipython",
    "version": 3
   },
   "file_extension": ".py",
   "mimetype": "text/x-python",
   "name": "python",
   "nbconvert_exporter": "python",
   "pygments_lexer": "ipython3",
   "version": "3.13.1"
  }
 },
 "nbformat": 4,
 "nbformat_minor": 2
}
